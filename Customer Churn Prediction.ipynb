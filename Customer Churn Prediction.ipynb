{
 "cells": [
  {
   "cell_type": "markdown",
   "metadata": {},
   "source": [
    "# Customer Churn Prediction\n",
    "                                            - Kenny.D"
   ]
  },
  {
   "cell_type": "markdown",
   "metadata": {},
   "source": [
    "### An end to end Machine Learning Program for a classification problem."
   ]
  },
  {
   "cell_type": "markdown",
   "metadata": {},
   "source": [
    "1. Data Cleaning\n",
    "2. EDA\n",
    "3. Model Building"
   ]
  },
  {
   "cell_type": "markdown",
   "metadata": {},
   "source": [
    "#### Data Cleaning\n",
    "1. Handle Null Values\n",
    "2. Remove Duplicates\n",
    "3. Clean SeniorCitizen Column from trash values\n",
    "4. Drop CustomerID column"
   ]
  },
  {
   "cell_type": "markdown",
   "metadata": {},
   "source": [
    "#### Exploratory Data Analysis\n",
    "1. Plot countplots for categorical variables vs Churn\n",
    "2. Plot barplots for numerical variables vs Churn\n",
    "3. Plot heatmap of correlation"
   ]
  },
  {
   "cell_type": "markdown",
   "metadata": {},
   "source": [
    "#### Model Building\n",
    "1. Pre-processing  \n",
    "    a. Train Test Split  \n",
    "    b. One hot encoding for Categorical Variables  \n",
    "    c. Scaling of Numerical Variables \n",
    "      \n",
    "2. Machine Learning  \n",
    "    a. Logistic Regression  \n",
    "    b. Decision Tree  \n",
    "    c. K Nearest Neighbor  \n",
    "    d. Random Forest Classifier  \n",
    "      \n",
    "3. Testing  \n",
    "    a. Accuracy Score  \n",
    "    b. Confusion Matrix  \n",
    "    c. Classification Report  \n",
    "      "
   ]
  },
  {
   "cell_type": "code",
   "execution_count": 1,
   "metadata": {},
   "outputs": [],
   "source": [
    "import pandas as pd\n",
    "import numpy as np\n",
    "import matplotlib.pyplot as plt\n",
    "import seaborn as sns\n",
    "%matplotlib inline"
   ]
  },
  {
   "cell_type": "code",
   "execution_count": 2,
   "metadata": {},
   "outputs": [],
   "source": [
    "df = pd.read_csv(\"churn.csv\")"
   ]
  },
  {
   "cell_type": "markdown",
   "metadata": {},
   "source": [
    "Checking the data"
   ]
  },
  {
   "cell_type": "code",
   "execution_count": 3,
   "metadata": {},
   "outputs": [
    {
     "data": {
      "text/html": [
       "<div>\n",
       "<style scoped>\n",
       "    .dataframe tbody tr th:only-of-type {\n",
       "        vertical-align: middle;\n",
       "    }\n",
       "\n",
       "    .dataframe tbody tr th {\n",
       "        vertical-align: top;\n",
       "    }\n",
       "\n",
       "    .dataframe thead th {\n",
       "        text-align: right;\n",
       "    }\n",
       "</style>\n",
       "<table border=\"1\" class=\"dataframe\">\n",
       "  <thead>\n",
       "    <tr style=\"text-align: right;\">\n",
       "      <th></th>\n",
       "      <th>customerID</th>\n",
       "      <th>gender</th>\n",
       "      <th>SeniorCitizen</th>\n",
       "      <th>Partner</th>\n",
       "      <th>Dependents</th>\n",
       "      <th>tenure</th>\n",
       "      <th>CallService</th>\n",
       "      <th>MultipleConnections</th>\n",
       "      <th>InternetConnection</th>\n",
       "      <th>OnlineSecurity</th>\n",
       "      <th>...</th>\n",
       "      <th>DeviceProtectionService</th>\n",
       "      <th>TechnicalHelp</th>\n",
       "      <th>OnlineTV</th>\n",
       "      <th>OnlineMovies</th>\n",
       "      <th>Agreement</th>\n",
       "      <th>BillingMethod</th>\n",
       "      <th>PaymentMethod</th>\n",
       "      <th>MonthlyServiceCharges</th>\n",
       "      <th>TotalAmount</th>\n",
       "      <th>Churn</th>\n",
       "    </tr>\n",
       "  </thead>\n",
       "  <tbody>\n",
       "    <tr>\n",
       "      <th>0</th>\n",
       "      <td>2907-ILJBN</td>\n",
       "      <td>Female</td>\n",
       "      <td>0.0</td>\n",
       "      <td>Yes</td>\n",
       "      <td>Yes</td>\n",
       "      <td>11.0</td>\n",
       "      <td>Yes</td>\n",
       "      <td>No</td>\n",
       "      <td>No</td>\n",
       "      <td>No internet service</td>\n",
       "      <td>...</td>\n",
       "      <td>No internet service</td>\n",
       "      <td>No internet service</td>\n",
       "      <td>No internet service</td>\n",
       "      <td>No internet service</td>\n",
       "      <td>One year</td>\n",
       "      <td>No</td>\n",
       "      <td>Mailed check</td>\n",
       "      <td>20.60</td>\n",
       "      <td>233.90</td>\n",
       "      <td>No</td>\n",
       "    </tr>\n",
       "    <tr>\n",
       "      <th>1</th>\n",
       "      <td>3896-RCYYE</td>\n",
       "      <td>Female</td>\n",
       "      <td>0.0</td>\n",
       "      <td>No</td>\n",
       "      <td>No</td>\n",
       "      <td>67.0</td>\n",
       "      <td>No</td>\n",
       "      <td>No phone service</td>\n",
       "      <td>DSL</td>\n",
       "      <td>No</td>\n",
       "      <td>...</td>\n",
       "      <td>Yes</td>\n",
       "      <td>Yes</td>\n",
       "      <td>Yes</td>\n",
       "      <td>Yes</td>\n",
       "      <td>Month-to-month</td>\n",
       "      <td>Yes</td>\n",
       "      <td>Credit card (automatic)</td>\n",
       "      <td>53.40</td>\n",
       "      <td>3579.15</td>\n",
       "      <td>No</td>\n",
       "    </tr>\n",
       "    <tr>\n",
       "      <th>2</th>\n",
       "      <td>9764-REAFF</td>\n",
       "      <td>Female</td>\n",
       "      <td>0.0</td>\n",
       "      <td>Yes</td>\n",
       "      <td>No</td>\n",
       "      <td>59.0</td>\n",
       "      <td>Yes</td>\n",
       "      <td>No</td>\n",
       "      <td>No</td>\n",
       "      <td>No internet service</td>\n",
       "      <td>...</td>\n",
       "      <td>No internet service</td>\n",
       "      <td>No internet service</td>\n",
       "      <td>No internet service</td>\n",
       "      <td>No internet service</td>\n",
       "      <td>Two year</td>\n",
       "      <td>No</td>\n",
       "      <td>Bank transfer (automatic)</td>\n",
       "      <td>18.40</td>\n",
       "      <td>1057.85</td>\n",
       "      <td>No</td>\n",
       "    </tr>\n",
       "    <tr>\n",
       "      <th>3</th>\n",
       "      <td>6651-RLGGM</td>\n",
       "      <td>Male</td>\n",
       "      <td>0.0</td>\n",
       "      <td>Yes</td>\n",
       "      <td>Yes</td>\n",
       "      <td>67.0</td>\n",
       "      <td>Yes</td>\n",
       "      <td>Yes</td>\n",
       "      <td>No</td>\n",
       "      <td>No internet service</td>\n",
       "      <td>...</td>\n",
       "      <td>No internet service</td>\n",
       "      <td>No internet service</td>\n",
       "      <td>No internet service</td>\n",
       "      <td>No internet service</td>\n",
       "      <td>Two year</td>\n",
       "      <td>No</td>\n",
       "      <td>Mailed check</td>\n",
       "      <td>26.30</td>\n",
       "      <td>1688.90</td>\n",
       "      <td>No</td>\n",
       "    </tr>\n",
       "    <tr>\n",
       "      <th>4</th>\n",
       "      <td>5879-SESNB</td>\n",
       "      <td>Female</td>\n",
       "      <td>0.0</td>\n",
       "      <td>No</td>\n",
       "      <td>No</td>\n",
       "      <td>11.0</td>\n",
       "      <td>Yes</td>\n",
       "      <td>Yes</td>\n",
       "      <td>Fiber optic</td>\n",
       "      <td>No</td>\n",
       "      <td>...</td>\n",
       "      <td>No</td>\n",
       "      <td>No</td>\n",
       "      <td>No</td>\n",
       "      <td>No</td>\n",
       "      <td>Month-to-month</td>\n",
       "      <td>No</td>\n",
       "      <td>Electronic check</td>\n",
       "      <td>75.25</td>\n",
       "      <td>888.65</td>\n",
       "      <td>No</td>\n",
       "    </tr>\n",
       "  </tbody>\n",
       "</table>\n",
       "<p>5 rows × 21 columns</p>\n",
       "</div>"
      ],
      "text/plain": [
       "   customerID  gender  SeniorCitizen Partner Dependents  tenure CallService  \\\n",
       "0  2907-ILJBN  Female            0.0     Yes        Yes    11.0         Yes   \n",
       "1  3896-RCYYE  Female            0.0      No         No    67.0          No   \n",
       "2  9764-REAFF  Female            0.0     Yes         No    59.0         Yes   \n",
       "3  6651-RLGGM    Male            0.0     Yes        Yes    67.0         Yes   \n",
       "4  5879-SESNB  Female            0.0      No         No    11.0         Yes   \n",
       "\n",
       "  MultipleConnections InternetConnection       OnlineSecurity  ...  \\\n",
       "0                  No                 No  No internet service  ...   \n",
       "1    No phone service                DSL                   No  ...   \n",
       "2                  No                 No  No internet service  ...   \n",
       "3                 Yes                 No  No internet service  ...   \n",
       "4                 Yes        Fiber optic                   No  ...   \n",
       "\n",
       "  DeviceProtectionService        TechnicalHelp             OnlineTV  \\\n",
       "0     No internet service  No internet service  No internet service   \n",
       "1                     Yes                  Yes                  Yes   \n",
       "2     No internet service  No internet service  No internet service   \n",
       "3     No internet service  No internet service  No internet service   \n",
       "4                      No                   No                   No   \n",
       "\n",
       "          OnlineMovies       Agreement BillingMethod  \\\n",
       "0  No internet service        One year            No   \n",
       "1                  Yes  Month-to-month           Yes   \n",
       "2  No internet service        Two year            No   \n",
       "3  No internet service        Two year            No   \n",
       "4                   No  Month-to-month            No   \n",
       "\n",
       "               PaymentMethod MonthlyServiceCharges  TotalAmount  Churn  \n",
       "0               Mailed check                 20.60       233.90     No  \n",
       "1    Credit card (automatic)                 53.40      3579.15     No  \n",
       "2  Bank transfer (automatic)                 18.40      1057.85     No  \n",
       "3               Mailed check                 26.30      1688.90     No  \n",
       "4           Electronic check                 75.25       888.65     No  \n",
       "\n",
       "[5 rows x 21 columns]"
      ]
     },
     "execution_count": 3,
     "metadata": {},
     "output_type": "execute_result"
    }
   ],
   "source": [
    "df.head()"
   ]
  },
  {
   "cell_type": "markdown",
   "metadata": {},
   "source": [
    "Firstly, it is important to understand the kind of data we are dealing with.  \n",
    "Without a firm understanding of the data, we may not be able to explain our process to the client."
   ]
  },
  {
   "cell_type": "code",
   "execution_count": 4,
   "metadata": {},
   "outputs": [
    {
     "data": {
      "text/html": [
       "<div>\n",
       "<style scoped>\n",
       "    .dataframe tbody tr th:only-of-type {\n",
       "        vertical-align: middle;\n",
       "    }\n",
       "\n",
       "    .dataframe tbody tr th {\n",
       "        vertical-align: top;\n",
       "    }\n",
       "\n",
       "    .dataframe thead th {\n",
       "        text-align: right;\n",
       "    }\n",
       "</style>\n",
       "<table border=\"1\" class=\"dataframe\">\n",
       "  <thead>\n",
       "    <tr style=\"text-align: right;\">\n",
       "      <th></th>\n",
       "      <th>0</th>\n",
       "      <th>1</th>\n",
       "      <th>2</th>\n",
       "      <th>3</th>\n",
       "      <th>4</th>\n",
       "    </tr>\n",
       "  </thead>\n",
       "  <tbody>\n",
       "    <tr>\n",
       "      <th>customerID</th>\n",
       "      <td>2907-ILJBN</td>\n",
       "      <td>3896-RCYYE</td>\n",
       "      <td>9764-REAFF</td>\n",
       "      <td>6651-RLGGM</td>\n",
       "      <td>5879-SESNB</td>\n",
       "    </tr>\n",
       "    <tr>\n",
       "      <th>gender</th>\n",
       "      <td>Female</td>\n",
       "      <td>Female</td>\n",
       "      <td>Female</td>\n",
       "      <td>Male</td>\n",
       "      <td>Female</td>\n",
       "    </tr>\n",
       "    <tr>\n",
       "      <th>SeniorCitizen</th>\n",
       "      <td>0</td>\n",
       "      <td>0</td>\n",
       "      <td>0</td>\n",
       "      <td>0</td>\n",
       "      <td>0</td>\n",
       "    </tr>\n",
       "    <tr>\n",
       "      <th>Partner</th>\n",
       "      <td>Yes</td>\n",
       "      <td>No</td>\n",
       "      <td>Yes</td>\n",
       "      <td>Yes</td>\n",
       "      <td>No</td>\n",
       "    </tr>\n",
       "    <tr>\n",
       "      <th>Dependents</th>\n",
       "      <td>Yes</td>\n",
       "      <td>No</td>\n",
       "      <td>No</td>\n",
       "      <td>Yes</td>\n",
       "      <td>No</td>\n",
       "    </tr>\n",
       "    <tr>\n",
       "      <th>tenure</th>\n",
       "      <td>11</td>\n",
       "      <td>67</td>\n",
       "      <td>59</td>\n",
       "      <td>67</td>\n",
       "      <td>11</td>\n",
       "    </tr>\n",
       "    <tr>\n",
       "      <th>CallService</th>\n",
       "      <td>Yes</td>\n",
       "      <td>No</td>\n",
       "      <td>Yes</td>\n",
       "      <td>Yes</td>\n",
       "      <td>Yes</td>\n",
       "    </tr>\n",
       "    <tr>\n",
       "      <th>MultipleConnections</th>\n",
       "      <td>No</td>\n",
       "      <td>No phone service</td>\n",
       "      <td>No</td>\n",
       "      <td>Yes</td>\n",
       "      <td>Yes</td>\n",
       "    </tr>\n",
       "    <tr>\n",
       "      <th>InternetConnection</th>\n",
       "      <td>No</td>\n",
       "      <td>DSL</td>\n",
       "      <td>No</td>\n",
       "      <td>No</td>\n",
       "      <td>Fiber optic</td>\n",
       "    </tr>\n",
       "    <tr>\n",
       "      <th>OnlineSecurity</th>\n",
       "      <td>No internet service</td>\n",
       "      <td>No</td>\n",
       "      <td>No internet service</td>\n",
       "      <td>No internet service</td>\n",
       "      <td>No</td>\n",
       "    </tr>\n",
       "    <tr>\n",
       "      <th>OnlineBackup</th>\n",
       "      <td>No internet service</td>\n",
       "      <td>No</td>\n",
       "      <td>No internet service</td>\n",
       "      <td>No internet service</td>\n",
       "      <td>No</td>\n",
       "    </tr>\n",
       "    <tr>\n",
       "      <th>DeviceProtectionService</th>\n",
       "      <td>No internet service</td>\n",
       "      <td>Yes</td>\n",
       "      <td>No internet service</td>\n",
       "      <td>No internet service</td>\n",
       "      <td>No</td>\n",
       "    </tr>\n",
       "    <tr>\n",
       "      <th>TechnicalHelp</th>\n",
       "      <td>No internet service</td>\n",
       "      <td>Yes</td>\n",
       "      <td>No internet service</td>\n",
       "      <td>No internet service</td>\n",
       "      <td>No</td>\n",
       "    </tr>\n",
       "    <tr>\n",
       "      <th>OnlineTV</th>\n",
       "      <td>No internet service</td>\n",
       "      <td>Yes</td>\n",
       "      <td>No internet service</td>\n",
       "      <td>No internet service</td>\n",
       "      <td>No</td>\n",
       "    </tr>\n",
       "    <tr>\n",
       "      <th>OnlineMovies</th>\n",
       "      <td>No internet service</td>\n",
       "      <td>Yes</td>\n",
       "      <td>No internet service</td>\n",
       "      <td>No internet service</td>\n",
       "      <td>No</td>\n",
       "    </tr>\n",
       "    <tr>\n",
       "      <th>Agreement</th>\n",
       "      <td>One year</td>\n",
       "      <td>Month-to-month</td>\n",
       "      <td>Two year</td>\n",
       "      <td>Two year</td>\n",
       "      <td>Month-to-month</td>\n",
       "    </tr>\n",
       "    <tr>\n",
       "      <th>BillingMethod</th>\n",
       "      <td>No</td>\n",
       "      <td>Yes</td>\n",
       "      <td>No</td>\n",
       "      <td>No</td>\n",
       "      <td>No</td>\n",
       "    </tr>\n",
       "    <tr>\n",
       "      <th>PaymentMethod</th>\n",
       "      <td>Mailed check</td>\n",
       "      <td>Credit card (automatic)</td>\n",
       "      <td>Bank transfer (automatic)</td>\n",
       "      <td>Mailed check</td>\n",
       "      <td>Electronic check</td>\n",
       "    </tr>\n",
       "    <tr>\n",
       "      <th>MonthlyServiceCharges</th>\n",
       "      <td>20.6</td>\n",
       "      <td>53.4</td>\n",
       "      <td>18.4</td>\n",
       "      <td>26.3</td>\n",
       "      <td>75.25</td>\n",
       "    </tr>\n",
       "    <tr>\n",
       "      <th>TotalAmount</th>\n",
       "      <td>233.9</td>\n",
       "      <td>3579.15</td>\n",
       "      <td>1057.85</td>\n",
       "      <td>1688.9</td>\n",
       "      <td>888.65</td>\n",
       "    </tr>\n",
       "    <tr>\n",
       "      <th>Churn</th>\n",
       "      <td>No</td>\n",
       "      <td>No</td>\n",
       "      <td>No</td>\n",
       "      <td>No</td>\n",
       "      <td>No</td>\n",
       "    </tr>\n",
       "  </tbody>\n",
       "</table>\n",
       "</div>"
      ],
      "text/plain": [
       "                                           0                        1  \\\n",
       "customerID                        2907-ILJBN               3896-RCYYE   \n",
       "gender                                Female                   Female   \n",
       "SeniorCitizen                              0                        0   \n",
       "Partner                                  Yes                       No   \n",
       "Dependents                               Yes                       No   \n",
       "tenure                                    11                       67   \n",
       "CallService                              Yes                       No   \n",
       "MultipleConnections                       No         No phone service   \n",
       "InternetConnection                        No                      DSL   \n",
       "OnlineSecurity           No internet service                       No   \n",
       "OnlineBackup             No internet service                       No   \n",
       "DeviceProtectionService  No internet service                      Yes   \n",
       "TechnicalHelp            No internet service                      Yes   \n",
       "OnlineTV                 No internet service                      Yes   \n",
       "OnlineMovies             No internet service                      Yes   \n",
       "Agreement                           One year           Month-to-month   \n",
       "BillingMethod                             No                      Yes   \n",
       "PaymentMethod                   Mailed check  Credit card (automatic)   \n",
       "MonthlyServiceCharges                   20.6                     53.4   \n",
       "TotalAmount                            233.9                  3579.15   \n",
       "Churn                                     No                       No   \n",
       "\n",
       "                                                 2                    3  \\\n",
       "customerID                              9764-REAFF           6651-RLGGM   \n",
       "gender                                      Female                 Male   \n",
       "SeniorCitizen                                    0                    0   \n",
       "Partner                                        Yes                  Yes   \n",
       "Dependents                                      No                  Yes   \n",
       "tenure                                          59                   67   \n",
       "CallService                                    Yes                  Yes   \n",
       "MultipleConnections                             No                  Yes   \n",
       "InternetConnection                              No                   No   \n",
       "OnlineSecurity                 No internet service  No internet service   \n",
       "OnlineBackup                   No internet service  No internet service   \n",
       "DeviceProtectionService        No internet service  No internet service   \n",
       "TechnicalHelp                  No internet service  No internet service   \n",
       "OnlineTV                       No internet service  No internet service   \n",
       "OnlineMovies                   No internet service  No internet service   \n",
       "Agreement                                 Two year             Two year   \n",
       "BillingMethod                                   No                   No   \n",
       "PaymentMethod            Bank transfer (automatic)         Mailed check   \n",
       "MonthlyServiceCharges                         18.4                 26.3   \n",
       "TotalAmount                                1057.85               1688.9   \n",
       "Churn                                           No                   No   \n",
       "\n",
       "                                        4  \n",
       "customerID                     5879-SESNB  \n",
       "gender                             Female  \n",
       "SeniorCitizen                           0  \n",
       "Partner                                No  \n",
       "Dependents                             No  \n",
       "tenure                                 11  \n",
       "CallService                           Yes  \n",
       "MultipleConnections                   Yes  \n",
       "InternetConnection            Fiber optic  \n",
       "OnlineSecurity                         No  \n",
       "OnlineBackup                           No  \n",
       "DeviceProtectionService                No  \n",
       "TechnicalHelp                          No  \n",
       "OnlineTV                               No  \n",
       "OnlineMovies                           No  \n",
       "Agreement                  Month-to-month  \n",
       "BillingMethod                          No  \n",
       "PaymentMethod            Electronic check  \n",
       "MonthlyServiceCharges               75.25  \n",
       "TotalAmount                        888.65  \n",
       "Churn                                  No  "
      ]
     },
     "execution_count": 4,
     "metadata": {},
     "output_type": "execute_result"
    }
   ],
   "source": [
    "df.head().T"
   ]
  },
  {
   "cell_type": "markdown",
   "metadata": {},
   "source": [
    "From the above, we learn that we are predicting if a Customer is likely to remain or churn.  \n",
    "The data can be segregated into three types\n",
    "1. Characteristics of the customer - gender, seniority, partner, dependents  \n",
    "2. Characteristics of the service - Internet connection type, other services  \n",
    "3. Characteristics of the payment - Agreement, Payment method, Total Amount  \n",
    "  \n",
    "Now that we know this, we can proceed forward as we have a grasp of the dataset."
   ]
  },
  {
   "cell_type": "code",
   "execution_count": 5,
   "metadata": {},
   "outputs": [
    {
     "name": "stdout",
     "output_type": "stream",
     "text": [
      "<class 'pandas.core.frame.DataFrame'>\n",
      "RangeIndex: 12335 entries, 0 to 12334\n",
      "Data columns (total 21 columns):\n",
      " #   Column                   Non-Null Count  Dtype  \n",
      "---  ------                   --------------  -----  \n",
      " 0   customerID               12335 non-null  object \n",
      " 1   gender                   12335 non-null  object \n",
      " 2   SeniorCitizen            12335 non-null  float64\n",
      " 3   Partner                  12335 non-null  object \n",
      " 4   Dependents               12335 non-null  object \n",
      " 5   tenure                   12335 non-null  float64\n",
      " 6   CallService              12335 non-null  object \n",
      " 7   MultipleConnections      12335 non-null  object \n",
      " 8   InternetConnection       12335 non-null  object \n",
      " 9   OnlineSecurity           12335 non-null  object \n",
      " 10  OnlineBackup             12335 non-null  object \n",
      " 11  DeviceProtectionService  12335 non-null  object \n",
      " 12  TechnicalHelp            12335 non-null  object \n",
      " 13  OnlineTV                 12335 non-null  object \n",
      " 14  OnlineMovies             12335 non-null  object \n",
      " 15  Agreement                12335 non-null  object \n",
      " 16  BillingMethod            12335 non-null  object \n",
      " 17  PaymentMethod            12335 non-null  object \n",
      " 18  MonthlyServiceCharges    12335 non-null  float64\n",
      " 19  TotalAmount              12335 non-null  float64\n",
      " 20  Churn                    12335 non-null  object \n",
      "dtypes: float64(4), object(17)\n",
      "memory usage: 2.0+ MB\n"
     ]
    }
   ],
   "source": [
    "df.info()"
   ]
  },
  {
   "cell_type": "markdown",
   "metadata": {},
   "source": [
    "From above output, we see that none of the variables have any null values.  \n",
    "However, to confirm, we can check using the isnull function."
   ]
  },
  {
   "cell_type": "code",
   "execution_count": 6,
   "metadata": {},
   "outputs": [
    {
     "data": {
      "text/plain": [
       "customerID                 0\n",
       "gender                     0\n",
       "SeniorCitizen              0\n",
       "Partner                    0\n",
       "Dependents                 0\n",
       "tenure                     0\n",
       "CallService                0\n",
       "MultipleConnections        0\n",
       "InternetConnection         0\n",
       "OnlineSecurity             0\n",
       "OnlineBackup               0\n",
       "DeviceProtectionService    0\n",
       "TechnicalHelp              0\n",
       "OnlineTV                   0\n",
       "OnlineMovies               0\n",
       "Agreement                  0\n",
       "BillingMethod              0\n",
       "PaymentMethod              0\n",
       "MonthlyServiceCharges      0\n",
       "TotalAmount                0\n",
       "Churn                      0\n",
       "dtype: int64"
      ]
     },
     "execution_count": 6,
     "metadata": {},
     "output_type": "execute_result"
    }
   ],
   "source": [
    "df.isnull().sum()"
   ]
  },
  {
   "cell_type": "markdown",
   "metadata": {},
   "source": [
    "As we confirm that none of the columns have null values, we will next look at the categories in each variable."
   ]
  },
  {
   "cell_type": "code",
   "execution_count": 7,
   "metadata": {},
   "outputs": [
    {
     "data": {
      "text/plain": [
       "customerID                 5590\n",
       "gender                        2\n",
       "SeniorCitizen               755\n",
       "Partner                       2\n",
       "Dependents                    2\n",
       "tenure                     3569\n",
       "CallService                   2\n",
       "MultipleConnections           3\n",
       "InternetConnection            3\n",
       "OnlineSecurity                3\n",
       "OnlineBackup                  3\n",
       "DeviceProtectionService       3\n",
       "TechnicalHelp                 3\n",
       "OnlineTV                      3\n",
       "OnlineMovies                  3\n",
       "Agreement                     3\n",
       "BillingMethod                 2\n",
       "PaymentMethod                 4\n",
       "MonthlyServiceCharges      5231\n",
       "TotalAmount                8951\n",
       "Churn                         2\n",
       "dtype: int64"
      ]
     },
     "execution_count": 7,
     "metadata": {},
     "output_type": "execute_result"
    }
   ],
   "source": [
    "df.nunique()"
   ]
  },
  {
   "cell_type": "markdown",
   "metadata": {},
   "source": [
    "From the above output, we see two anamolies.  \n",
    "1. Senior Citizen column should ideally have just two unique values. But this shows 755. We should look into that column further.  \n",
    "2. Although we have 12335 customers, we only have 5590 Customer ID.   \n",
    "   This could imply there may by duplicate rows.  \n",
    "   Or, few customers has multiple telecom subscriptions."
   ]
  },
  {
   "cell_type": "markdown",
   "metadata": {},
   "source": [
    "Let's first check if the dataset has duplicate values."
   ]
  },
  {
   "cell_type": "code",
   "execution_count": 8,
   "metadata": {},
   "outputs": [
    {
     "data": {
      "text/html": [
       "<div>\n",
       "<style scoped>\n",
       "    .dataframe tbody tr th:only-of-type {\n",
       "        vertical-align: middle;\n",
       "    }\n",
       "\n",
       "    .dataframe tbody tr th {\n",
       "        vertical-align: top;\n",
       "    }\n",
       "\n",
       "    .dataframe thead th {\n",
       "        text-align: right;\n",
       "    }\n",
       "</style>\n",
       "<table border=\"1\" class=\"dataframe\">\n",
       "  <thead>\n",
       "    <tr style=\"text-align: right;\">\n",
       "      <th></th>\n",
       "      <th>customerID</th>\n",
       "      <th>gender</th>\n",
       "      <th>SeniorCitizen</th>\n",
       "      <th>Partner</th>\n",
       "      <th>Dependents</th>\n",
       "      <th>tenure</th>\n",
       "      <th>CallService</th>\n",
       "      <th>MultipleConnections</th>\n",
       "      <th>InternetConnection</th>\n",
       "      <th>OnlineSecurity</th>\n",
       "      <th>...</th>\n",
       "      <th>DeviceProtectionService</th>\n",
       "      <th>TechnicalHelp</th>\n",
       "      <th>OnlineTV</th>\n",
       "      <th>OnlineMovies</th>\n",
       "      <th>Agreement</th>\n",
       "      <th>BillingMethod</th>\n",
       "      <th>PaymentMethod</th>\n",
       "      <th>MonthlyServiceCharges</th>\n",
       "      <th>TotalAmount</th>\n",
       "      <th>Churn</th>\n",
       "    </tr>\n",
       "  </thead>\n",
       "  <tbody>\n",
       "    <tr>\n",
       "      <th>97</th>\n",
       "      <td>3452-ABWRL</td>\n",
       "      <td>Male</td>\n",
       "      <td>1.0</td>\n",
       "      <td>No</td>\n",
       "      <td>No</td>\n",
       "      <td>47.0</td>\n",
       "      <td>Yes</td>\n",
       "      <td>Yes</td>\n",
       "      <td>Fiber optic</td>\n",
       "      <td>No</td>\n",
       "      <td>...</td>\n",
       "      <td>No</td>\n",
       "      <td>No</td>\n",
       "      <td>Yes</td>\n",
       "      <td>No</td>\n",
       "      <td>Month-to-month</td>\n",
       "      <td>Yes</td>\n",
       "      <td>Credit card (automatic)</td>\n",
       "      <td>86.05</td>\n",
       "      <td>3865.60</td>\n",
       "      <td>No</td>\n",
       "    </tr>\n",
       "    <tr>\n",
       "      <th>190</th>\n",
       "      <td>8645-KOMJQ</td>\n",
       "      <td>Male</td>\n",
       "      <td>0.0</td>\n",
       "      <td>Yes</td>\n",
       "      <td>Yes</td>\n",
       "      <td>69.0</td>\n",
       "      <td>Yes</td>\n",
       "      <td>Yes</td>\n",
       "      <td>DSL</td>\n",
       "      <td>No</td>\n",
       "      <td>...</td>\n",
       "      <td>Yes</td>\n",
       "      <td>Yes</td>\n",
       "      <td>Yes</td>\n",
       "      <td>Yes</td>\n",
       "      <td>Two year</td>\n",
       "      <td>Yes</td>\n",
       "      <td>Bank transfer (automatic)</td>\n",
       "      <td>81.95</td>\n",
       "      <td>5601.40</td>\n",
       "      <td>No</td>\n",
       "    </tr>\n",
       "    <tr>\n",
       "      <th>195</th>\n",
       "      <td>9334-GWGOW</td>\n",
       "      <td>Male</td>\n",
       "      <td>1.0</td>\n",
       "      <td>Yes</td>\n",
       "      <td>No</td>\n",
       "      <td>7.0</td>\n",
       "      <td>Yes</td>\n",
       "      <td>Yes</td>\n",
       "      <td>Fiber optic</td>\n",
       "      <td>No</td>\n",
       "      <td>...</td>\n",
       "      <td>No</td>\n",
       "      <td>No</td>\n",
       "      <td>No</td>\n",
       "      <td>No</td>\n",
       "      <td>Month-to-month</td>\n",
       "      <td>Yes</td>\n",
       "      <td>Electronic check</td>\n",
       "      <td>74.85</td>\n",
       "      <td>485.25</td>\n",
       "      <td>No</td>\n",
       "    </tr>\n",
       "    <tr>\n",
       "      <th>216</th>\n",
       "      <td>7878-JGDKK</td>\n",
       "      <td>Male</td>\n",
       "      <td>0.0</td>\n",
       "      <td>No</td>\n",
       "      <td>No</td>\n",
       "      <td>4.0</td>\n",
       "      <td>Yes</td>\n",
       "      <td>No</td>\n",
       "      <td>DSL</td>\n",
       "      <td>No</td>\n",
       "      <td>...</td>\n",
       "      <td>No</td>\n",
       "      <td>No</td>\n",
       "      <td>No</td>\n",
       "      <td>No</td>\n",
       "      <td>Month-to-month</td>\n",
       "      <td>No</td>\n",
       "      <td>Mailed check</td>\n",
       "      <td>44.55</td>\n",
       "      <td>220.75</td>\n",
       "      <td>No</td>\n",
       "    </tr>\n",
       "    <tr>\n",
       "      <th>278</th>\n",
       "      <td>7029-IJEJK</td>\n",
       "      <td>Female</td>\n",
       "      <td>0.0</td>\n",
       "      <td>No</td>\n",
       "      <td>No</td>\n",
       "      <td>54.0</td>\n",
       "      <td>No</td>\n",
       "      <td>No phone service</td>\n",
       "      <td>DSL</td>\n",
       "      <td>Yes</td>\n",
       "      <td>...</td>\n",
       "      <td>No</td>\n",
       "      <td>Yes</td>\n",
       "      <td>No</td>\n",
       "      <td>Yes</td>\n",
       "      <td>One year</td>\n",
       "      <td>No</td>\n",
       "      <td>Bank transfer (automatic)</td>\n",
       "      <td>44.10</td>\n",
       "      <td>2369.70</td>\n",
       "      <td>No</td>\n",
       "    </tr>\n",
       "    <tr>\n",
       "      <th>...</th>\n",
       "      <td>...</td>\n",
       "      <td>...</td>\n",
       "      <td>...</td>\n",
       "      <td>...</td>\n",
       "      <td>...</td>\n",
       "      <td>...</td>\n",
       "      <td>...</td>\n",
       "      <td>...</td>\n",
       "      <td>...</td>\n",
       "      <td>...</td>\n",
       "      <td>...</td>\n",
       "      <td>...</td>\n",
       "      <td>...</td>\n",
       "      <td>...</td>\n",
       "      <td>...</td>\n",
       "      <td>...</td>\n",
       "      <td>...</td>\n",
       "      <td>...</td>\n",
       "      <td>...</td>\n",
       "      <td>...</td>\n",
       "      <td>...</td>\n",
       "    </tr>\n",
       "    <tr>\n",
       "      <th>6722</th>\n",
       "      <td>4128-ETESU</td>\n",
       "      <td>Female</td>\n",
       "      <td>1.0</td>\n",
       "      <td>Yes</td>\n",
       "      <td>No</td>\n",
       "      <td>47.0</td>\n",
       "      <td>Yes</td>\n",
       "      <td>Yes</td>\n",
       "      <td>Fiber optic</td>\n",
       "      <td>No</td>\n",
       "      <td>...</td>\n",
       "      <td>Yes</td>\n",
       "      <td>No</td>\n",
       "      <td>Yes</td>\n",
       "      <td>Yes</td>\n",
       "      <td>Month-to-month</td>\n",
       "      <td>No</td>\n",
       "      <td>Electronic check</td>\n",
       "      <td>99.70</td>\n",
       "      <td>4747.20</td>\n",
       "      <td>No</td>\n",
       "    </tr>\n",
       "    <tr>\n",
       "      <th>6723</th>\n",
       "      <td>3606-SBKRY</td>\n",
       "      <td>Male</td>\n",
       "      <td>0.0</td>\n",
       "      <td>No</td>\n",
       "      <td>No</td>\n",
       "      <td>31.0</td>\n",
       "      <td>No</td>\n",
       "      <td>No phone service</td>\n",
       "      <td>DSL</td>\n",
       "      <td>No</td>\n",
       "      <td>...</td>\n",
       "      <td>Yes</td>\n",
       "      <td>No</td>\n",
       "      <td>Yes</td>\n",
       "      <td>Yes</td>\n",
       "      <td>One year</td>\n",
       "      <td>Yes</td>\n",
       "      <td>Electronic check</td>\n",
       "      <td>50.05</td>\n",
       "      <td>1523.40</td>\n",
       "      <td>No</td>\n",
       "    </tr>\n",
       "    <tr>\n",
       "      <th>6725</th>\n",
       "      <td>2101-RANCD</td>\n",
       "      <td>Female</td>\n",
       "      <td>0.0</td>\n",
       "      <td>No</td>\n",
       "      <td>No</td>\n",
       "      <td>55.0</td>\n",
       "      <td>Yes</td>\n",
       "      <td>Yes</td>\n",
       "      <td>Fiber optic</td>\n",
       "      <td>No</td>\n",
       "      <td>...</td>\n",
       "      <td>No</td>\n",
       "      <td>No</td>\n",
       "      <td>No</td>\n",
       "      <td>No</td>\n",
       "      <td>Month-to-month</td>\n",
       "      <td>Yes</td>\n",
       "      <td>Electronic check</td>\n",
       "      <td>73.10</td>\n",
       "      <td>4144.90</td>\n",
       "      <td>No</td>\n",
       "    </tr>\n",
       "    <tr>\n",
       "      <th>6726</th>\n",
       "      <td>0303-WMMRN</td>\n",
       "      <td>Male</td>\n",
       "      <td>0.0</td>\n",
       "      <td>No</td>\n",
       "      <td>No</td>\n",
       "      <td>5.0</td>\n",
       "      <td>Yes</td>\n",
       "      <td>No</td>\n",
       "      <td>No</td>\n",
       "      <td>No internet service</td>\n",
       "      <td>...</td>\n",
       "      <td>No internet service</td>\n",
       "      <td>No internet service</td>\n",
       "      <td>No internet service</td>\n",
       "      <td>No internet service</td>\n",
       "      <td>Month-to-month</td>\n",
       "      <td>Yes</td>\n",
       "      <td>Mailed check</td>\n",
       "      <td>19.25</td>\n",
       "      <td>86.05</td>\n",
       "      <td>No</td>\n",
       "    </tr>\n",
       "    <tr>\n",
       "      <th>6727</th>\n",
       "      <td>2858-EIMXH</td>\n",
       "      <td>Female</td>\n",
       "      <td>1.0</td>\n",
       "      <td>Yes</td>\n",
       "      <td>No</td>\n",
       "      <td>53.0</td>\n",
       "      <td>Yes</td>\n",
       "      <td>Yes</td>\n",
       "      <td>Fiber optic</td>\n",
       "      <td>No</td>\n",
       "      <td>...</td>\n",
       "      <td>No</td>\n",
       "      <td>No</td>\n",
       "      <td>Yes</td>\n",
       "      <td>Yes</td>\n",
       "      <td>One year</td>\n",
       "      <td>Yes</td>\n",
       "      <td>Credit card (automatic)</td>\n",
       "      <td>95.85</td>\n",
       "      <td>5016.25</td>\n",
       "      <td>No</td>\n",
       "    </tr>\n",
       "  </tbody>\n",
       "</table>\n",
       "<p>3007 rows × 21 columns</p>\n",
       "</div>"
      ],
      "text/plain": [
       "      customerID  gender  SeniorCitizen Partner Dependents  tenure  \\\n",
       "97    3452-ABWRL    Male            1.0      No         No    47.0   \n",
       "190   8645-KOMJQ    Male            0.0     Yes        Yes    69.0   \n",
       "195   9334-GWGOW    Male            1.0     Yes         No     7.0   \n",
       "216   7878-JGDKK    Male            0.0      No         No     4.0   \n",
       "278   7029-IJEJK  Female            0.0      No         No    54.0   \n",
       "...          ...     ...            ...     ...        ...     ...   \n",
       "6722  4128-ETESU  Female            1.0     Yes         No    47.0   \n",
       "6723  3606-SBKRY    Male            0.0      No         No    31.0   \n",
       "6725  2101-RANCD  Female            0.0      No         No    55.0   \n",
       "6726  0303-WMMRN    Male            0.0      No         No     5.0   \n",
       "6727  2858-EIMXH  Female            1.0     Yes         No    53.0   \n",
       "\n",
       "     CallService MultipleConnections InternetConnection       OnlineSecurity  \\\n",
       "97           Yes                 Yes        Fiber optic                   No   \n",
       "190          Yes                 Yes                DSL                   No   \n",
       "195          Yes                 Yes        Fiber optic                   No   \n",
       "216          Yes                  No                DSL                   No   \n",
       "278           No    No phone service                DSL                  Yes   \n",
       "...          ...                 ...                ...                  ...   \n",
       "6722         Yes                 Yes        Fiber optic                   No   \n",
       "6723          No    No phone service                DSL                   No   \n",
       "6725         Yes                 Yes        Fiber optic                   No   \n",
       "6726         Yes                  No                 No  No internet service   \n",
       "6727         Yes                 Yes        Fiber optic                   No   \n",
       "\n",
       "      ... DeviceProtectionService        TechnicalHelp             OnlineTV  \\\n",
       "97    ...                      No                   No                  Yes   \n",
       "190   ...                     Yes                  Yes                  Yes   \n",
       "195   ...                      No                   No                   No   \n",
       "216   ...                      No                   No                   No   \n",
       "278   ...                      No                  Yes                   No   \n",
       "...   ...                     ...                  ...                  ...   \n",
       "6722  ...                     Yes                   No                  Yes   \n",
       "6723  ...                     Yes                   No                  Yes   \n",
       "6725  ...                      No                   No                   No   \n",
       "6726  ...     No internet service  No internet service  No internet service   \n",
       "6727  ...                      No                   No                  Yes   \n",
       "\n",
       "             OnlineMovies       Agreement BillingMethod  \\\n",
       "97                     No  Month-to-month           Yes   \n",
       "190                   Yes        Two year           Yes   \n",
       "195                    No  Month-to-month           Yes   \n",
       "216                    No  Month-to-month            No   \n",
       "278                   Yes        One year            No   \n",
       "...                   ...             ...           ...   \n",
       "6722                  Yes  Month-to-month            No   \n",
       "6723                  Yes        One year           Yes   \n",
       "6725                   No  Month-to-month           Yes   \n",
       "6726  No internet service  Month-to-month           Yes   \n",
       "6727                  Yes        One year           Yes   \n",
       "\n",
       "                  PaymentMethod MonthlyServiceCharges  TotalAmount  Churn  \n",
       "97      Credit card (automatic)                 86.05      3865.60     No  \n",
       "190   Bank transfer (automatic)                 81.95      5601.40     No  \n",
       "195            Electronic check                 74.85       485.25     No  \n",
       "216                Mailed check                 44.55       220.75     No  \n",
       "278   Bank transfer (automatic)                 44.10      2369.70     No  \n",
       "...                         ...                   ...          ...    ...  \n",
       "6722           Electronic check                 99.70      4747.20     No  \n",
       "6723           Electronic check                 50.05      1523.40     No  \n",
       "6725           Electronic check                 73.10      4144.90     No  \n",
       "6726               Mailed check                 19.25        86.05     No  \n",
       "6727    Credit card (automatic)                 95.85      5016.25     No  \n",
       "\n",
       "[3007 rows x 21 columns]"
      ]
     },
     "execution_count": 8,
     "metadata": {},
     "output_type": "execute_result"
    }
   ],
   "source": [
    "duplicate = df[df.duplicated()]\n",
    "duplicate"
   ]
  },
  {
   "cell_type": "code",
   "execution_count": 9,
   "metadata": {},
   "outputs": [
    {
     "data": {
      "text/plain": [
       "False    9328\n",
       "True     3007\n",
       "dtype: int64"
      ]
     },
     "execution_count": 9,
     "metadata": {},
     "output_type": "execute_result"
    }
   ],
   "source": [
    "df.duplicated().value_counts()"
   ]
  },
  {
   "cell_type": "markdown",
   "metadata": {},
   "source": [
    "We see that there are 3007 duplicate observations in this dataset. Let's remove them."
   ]
  },
  {
   "cell_type": "code",
   "execution_count": 10,
   "metadata": {},
   "outputs": [
    {
     "data": {
      "text/plain": [
       "(9328, 21)"
      ]
     },
     "execution_count": 10,
     "metadata": {},
     "output_type": "execute_result"
    }
   ],
   "source": [
    "df2 = df.drop_duplicates()\n",
    "df2.shape"
   ]
  },
  {
   "cell_type": "code",
   "execution_count": 11,
   "metadata": {},
   "outputs": [
    {
     "data": {
      "text/html": [
       "<div>\n",
       "<style scoped>\n",
       "    .dataframe tbody tr th:only-of-type {\n",
       "        vertical-align: middle;\n",
       "    }\n",
       "\n",
       "    .dataframe tbody tr th {\n",
       "        vertical-align: top;\n",
       "    }\n",
       "\n",
       "    .dataframe thead th {\n",
       "        text-align: right;\n",
       "    }\n",
       "</style>\n",
       "<table border=\"1\" class=\"dataframe\">\n",
       "  <thead>\n",
       "    <tr style=\"text-align: right;\">\n",
       "      <th></th>\n",
       "      <th>customerID</th>\n",
       "      <th>gender</th>\n",
       "      <th>SeniorCitizen</th>\n",
       "      <th>Partner</th>\n",
       "      <th>Dependents</th>\n",
       "      <th>tenure</th>\n",
       "      <th>CallService</th>\n",
       "      <th>MultipleConnections</th>\n",
       "      <th>InternetConnection</th>\n",
       "      <th>OnlineSecurity</th>\n",
       "      <th>...</th>\n",
       "      <th>DeviceProtectionService</th>\n",
       "      <th>TechnicalHelp</th>\n",
       "      <th>OnlineTV</th>\n",
       "      <th>OnlineMovies</th>\n",
       "      <th>Agreement</th>\n",
       "      <th>BillingMethod</th>\n",
       "      <th>PaymentMethod</th>\n",
       "      <th>MonthlyServiceCharges</th>\n",
       "      <th>TotalAmount</th>\n",
       "      <th>Churn</th>\n",
       "    </tr>\n",
       "  </thead>\n",
       "  <tbody>\n",
       "    <tr>\n",
       "      <th>12330</th>\n",
       "      <td>6894-LFHLY</td>\n",
       "      <td>Male</td>\n",
       "      <td>0.357423</td>\n",
       "      <td>No</td>\n",
       "      <td>Yes</td>\n",
       "      <td>2.927730</td>\n",
       "      <td>Yes</td>\n",
       "      <td>No</td>\n",
       "      <td>Fiber optic</td>\n",
       "      <td>No</td>\n",
       "      <td>...</td>\n",
       "      <td>No</td>\n",
       "      <td>No</td>\n",
       "      <td>No internet service</td>\n",
       "      <td>No internet service</td>\n",
       "      <td>Month-to-month</td>\n",
       "      <td>Yes</td>\n",
       "      <td>Mailed check</td>\n",
       "      <td>40.151251</td>\n",
       "      <td>76.135546</td>\n",
       "      <td>Yes</td>\n",
       "    </tr>\n",
       "    <tr>\n",
       "      <th>12331</th>\n",
       "      <td>0639-TSIQW</td>\n",
       "      <td>Female</td>\n",
       "      <td>0.000000</td>\n",
       "      <td>No</td>\n",
       "      <td>No</td>\n",
       "      <td>63.430477</td>\n",
       "      <td>No</td>\n",
       "      <td>No phone service</td>\n",
       "      <td>Fiber optic</td>\n",
       "      <td>Yes</td>\n",
       "      <td>...</td>\n",
       "      <td>Yes</td>\n",
       "      <td>No</td>\n",
       "      <td>No</td>\n",
       "      <td>No</td>\n",
       "      <td>Month-to-month</td>\n",
       "      <td>No</td>\n",
       "      <td>Credit card (automatic)</td>\n",
       "      <td>96.252187</td>\n",
       "      <td>6310.292602</td>\n",
       "      <td>Yes</td>\n",
       "    </tr>\n",
       "    <tr>\n",
       "      <th>12332</th>\n",
       "      <td>0639-TSIQW</td>\n",
       "      <td>Male</td>\n",
       "      <td>0.000000</td>\n",
       "      <td>No</td>\n",
       "      <td>Yes</td>\n",
       "      <td>49.677352</td>\n",
       "      <td>No</td>\n",
       "      <td>No phone service</td>\n",
       "      <td>Fiber optic</td>\n",
       "      <td>Yes</td>\n",
       "      <td>...</td>\n",
       "      <td>Yes</td>\n",
       "      <td>No</td>\n",
       "      <td>No</td>\n",
       "      <td>No</td>\n",
       "      <td>Month-to-month</td>\n",
       "      <td>No</td>\n",
       "      <td>Credit card (automatic)</td>\n",
       "      <td>70.445975</td>\n",
       "      <td>4091.168541</td>\n",
       "      <td>Yes</td>\n",
       "    </tr>\n",
       "    <tr>\n",
       "      <th>12333</th>\n",
       "      <td>0607-DAAHE</td>\n",
       "      <td>Male</td>\n",
       "      <td>0.660002</td>\n",
       "      <td>Yes</td>\n",
       "      <td>Yes</td>\n",
       "      <td>20.659911</td>\n",
       "      <td>Yes</td>\n",
       "      <td>No</td>\n",
       "      <td>No</td>\n",
       "      <td>No internet service</td>\n",
       "      <td>...</td>\n",
       "      <td>No</td>\n",
       "      <td>No internet service</td>\n",
       "      <td>No internet service</td>\n",
       "      <td>No internet service</td>\n",
       "      <td>Month-to-month</td>\n",
       "      <td>Yes</td>\n",
       "      <td>Mailed check</td>\n",
       "      <td>55.819099</td>\n",
       "      <td>560.153643</td>\n",
       "      <td>Yes</td>\n",
       "    </tr>\n",
       "    <tr>\n",
       "      <th>12334</th>\n",
       "      <td>1038-ZAGBI</td>\n",
       "      <td>Female</td>\n",
       "      <td>0.433856</td>\n",
       "      <td>Yes</td>\n",
       "      <td>No</td>\n",
       "      <td>8.529156</td>\n",
       "      <td>Yes</td>\n",
       "      <td>No</td>\n",
       "      <td>Fiber optic</td>\n",
       "      <td>No internet service</td>\n",
       "      <td>...</td>\n",
       "      <td>No internet service</td>\n",
       "      <td>No internet service</td>\n",
       "      <td>No</td>\n",
       "      <td>No internet service</td>\n",
       "      <td>One year</td>\n",
       "      <td>Yes</td>\n",
       "      <td>Mailed check</td>\n",
       "      <td>43.488511</td>\n",
       "      <td>263.006875</td>\n",
       "      <td>Yes</td>\n",
       "    </tr>\n",
       "  </tbody>\n",
       "</table>\n",
       "<p>5 rows × 21 columns</p>\n",
       "</div>"
      ],
      "text/plain": [
       "       customerID  gender  SeniorCitizen Partner Dependents     tenure  \\\n",
       "12330  6894-LFHLY    Male       0.357423      No        Yes   2.927730   \n",
       "12331  0639-TSIQW  Female       0.000000      No         No  63.430477   \n",
       "12332  0639-TSIQW    Male       0.000000      No        Yes  49.677352   \n",
       "12333  0607-DAAHE    Male       0.660002     Yes        Yes  20.659911   \n",
       "12334  1038-ZAGBI  Female       0.433856     Yes         No   8.529156   \n",
       "\n",
       "      CallService MultipleConnections InternetConnection       OnlineSecurity  \\\n",
       "12330         Yes                  No        Fiber optic                   No   \n",
       "12331          No    No phone service        Fiber optic                  Yes   \n",
       "12332          No    No phone service        Fiber optic                  Yes   \n",
       "12333         Yes                  No                 No  No internet service   \n",
       "12334         Yes                  No        Fiber optic  No internet service   \n",
       "\n",
       "       ... DeviceProtectionService        TechnicalHelp             OnlineTV  \\\n",
       "12330  ...                      No                   No  No internet service   \n",
       "12331  ...                     Yes                   No                   No   \n",
       "12332  ...                     Yes                   No                   No   \n",
       "12333  ...                      No  No internet service  No internet service   \n",
       "12334  ...     No internet service  No internet service                   No   \n",
       "\n",
       "              OnlineMovies       Agreement BillingMethod  \\\n",
       "12330  No internet service  Month-to-month           Yes   \n",
       "12331                   No  Month-to-month            No   \n",
       "12332                   No  Month-to-month            No   \n",
       "12333  No internet service  Month-to-month           Yes   \n",
       "12334  No internet service        One year           Yes   \n",
       "\n",
       "                 PaymentMethod MonthlyServiceCharges  TotalAmount  Churn  \n",
       "12330             Mailed check             40.151251    76.135546    Yes  \n",
       "12331  Credit card (automatic)             96.252187  6310.292602    Yes  \n",
       "12332  Credit card (automatic)             70.445975  4091.168541    Yes  \n",
       "12333             Mailed check             55.819099   560.153643    Yes  \n",
       "12334             Mailed check             43.488511   263.006875    Yes  \n",
       "\n",
       "[5 rows x 21 columns]"
      ]
     },
     "execution_count": 11,
     "metadata": {},
     "output_type": "execute_result"
    }
   ],
   "source": [
    "df2.tail()"
   ]
  },
  {
   "cell_type": "markdown",
   "metadata": {},
   "source": [
    "We see that Senior Citizen has 755 values. This cannot be true.  \n",
    "Upon closer observation, we see some of the values are in between 0 and 1.  \n",
    "This is some faulty data that needs to be removed.  \n",
    "Hence, we will remove the rows where the column value is not 0 or 1."
   ]
  },
  {
   "cell_type": "code",
   "execution_count": 12,
   "metadata": {},
   "outputs": [],
   "source": [
    "df3 = df2.loc[df2[\"SeniorCitizen\"].isin([0,1])]"
   ]
  },
  {
   "cell_type": "code",
   "execution_count": 13,
   "metadata": {},
   "outputs": [
    {
     "data": {
      "text/plain": [
       "customerID                 5590\n",
       "gender                        2\n",
       "SeniorCitizen                 2\n",
       "Partner                       2\n",
       "Dependents                    2\n",
       "tenure                     2867\n",
       "CallService                   2\n",
       "MultipleConnections           3\n",
       "InternetConnection            3\n",
       "OnlineSecurity                3\n",
       "OnlineBackup                  3\n",
       "DeviceProtectionService       3\n",
       "TechnicalHelp                 3\n",
       "OnlineTV                      3\n",
       "OnlineMovies                  3\n",
       "Agreement                     3\n",
       "BillingMethod                 2\n",
       "PaymentMethod                 4\n",
       "MonthlyServiceCharges      4478\n",
       "TotalAmount                8198\n",
       "Churn                         2\n",
       "dtype: int64"
      ]
     },
     "execution_count": 13,
     "metadata": {},
     "output_type": "execute_result"
    }
   ],
   "source": [
    "df3.nunique()"
   ]
  },
  {
   "cell_type": "markdown",
   "metadata": {},
   "source": [
    "We have now taken care of the Senior Citizen problem.  \n",
    "Next, we look into the CustomerID column.  \n",
    "One explanation could be a customer has multiple telecom accounts.  \n",
    "This is very much plausible as many people now have multiple mobile devices and sim cards.  \n",
    "Hence, we can ignore that column."
   ]
  },
  {
   "cell_type": "code",
   "execution_count": 14,
   "metadata": {},
   "outputs": [],
   "source": [
    "df3 = df3.drop(\"customerID\", axis = 1)"
   ]
  },
  {
   "cell_type": "code",
   "execution_count": 15,
   "metadata": {
    "scrolled": false
   },
   "outputs": [
    {
     "name": "stdout",
     "output_type": "stream",
     "text": [
      "<class 'pandas.core.frame.DataFrame'>\n",
      "Int64Index: 8575 entries, 0 to 12332\n",
      "Data columns (total 20 columns):\n",
      " #   Column                   Non-Null Count  Dtype  \n",
      "---  ------                   --------------  -----  \n",
      " 0   gender                   8575 non-null   object \n",
      " 1   SeniorCitizen            8575 non-null   float64\n",
      " 2   Partner                  8575 non-null   object \n",
      " 3   Dependents               8575 non-null   object \n",
      " 4   tenure                   8575 non-null   float64\n",
      " 5   CallService              8575 non-null   object \n",
      " 6   MultipleConnections      8575 non-null   object \n",
      " 7   InternetConnection       8575 non-null   object \n",
      " 8   OnlineSecurity           8575 non-null   object \n",
      " 9   OnlineBackup             8575 non-null   object \n",
      " 10  DeviceProtectionService  8575 non-null   object \n",
      " 11  TechnicalHelp            8575 non-null   object \n",
      " 12  OnlineTV                 8575 non-null   object \n",
      " 13  OnlineMovies             8575 non-null   object \n",
      " 14  Agreement                8575 non-null   object \n",
      " 15  BillingMethod            8575 non-null   object \n",
      " 16  PaymentMethod            8575 non-null   object \n",
      " 17  MonthlyServiceCharges    8575 non-null   float64\n",
      " 18  TotalAmount              8575 non-null   float64\n",
      " 19  Churn                    8575 non-null   object \n",
      "dtypes: float64(4), object(16)\n",
      "memory usage: 1.4+ MB\n"
     ]
    }
   ],
   "source": [
    "df3.info()"
   ]
  },
  {
   "cell_type": "markdown",
   "metadata": {},
   "source": [
    "We see that SeniorCitizen is in float format when it should be in object type format. Let's change that."
   ]
  },
  {
   "cell_type": "code",
   "execution_count": 16,
   "metadata": {},
   "outputs": [
    {
     "data": {
      "text/plain": [
       "No     7420\n",
       "Yes    1155\n",
       "Name: SeniorCitizen, dtype: int64"
      ]
     },
     "execution_count": 16,
     "metadata": {},
     "output_type": "execute_result"
    }
   ],
   "source": [
    "df3.SeniorCitizen = df3.SeniorCitizen.astype(str)\n",
    "df3.SeniorCitizen = df3.SeniorCitizen.replace({'1.0':\"Yes\",'0.0':\"No\"})\n",
    "df3.SeniorCitizen.value_counts()"
   ]
  },
  {
   "cell_type": "markdown",
   "metadata": {},
   "source": [
    "## Exploratory Data Analysis"
   ]
  },
  {
   "cell_type": "markdown",
   "metadata": {},
   "source": [
    "Let's initially look at the distribution of Churn variable."
   ]
  },
  {
   "cell_type": "code",
   "execution_count": 17,
   "metadata": {},
   "outputs": [
    {
     "data": {
      "image/png": "[encoded data removed]",
      "text/plain": [
       "<Figure size 432x288 with 1 Axes>"
      ]
     },
     "metadata": {
      "needs_background": "light"
     },
     "output_type": "display_data"
    }
   ],
   "source": [
    "ax = sns.barplot(x=df3.Churn, y=df3.TotalAmount, data=df3)\n",
    "ax.set(title='Split of Churn and non-Churn')\n",
    "\n",
    "for p in ax.patches:\n",
    "\n",
    " height = p.get_height()\n",
    "\n",
    " ax.text(\n",
    "     x = p.get_x()+(p.get_width()/2),      \n",
    "     y = height+100,     \n",
    "     s = '{:.0f}'.format(height),     \n",
    "     ha = 'center')"
   ]
  },
  {
   "cell_type": "markdown",
   "metadata": {},
   "source": [
    "We will next make plots for each of the variable with the target variable Churn.  "
   ]
  },
  {
   "cell_type": "code",
   "execution_count": 18,
   "metadata": {},
   "outputs": [
    {
     "data": {
      "text/plain": [
       "Text(0.5, 1.0, 'Count distribution of Churn with Gender')"
      ]
     },
     "execution_count": 18,
     "metadata": {},
     "output_type": "execute_result"
    },
    {
     "data": {
      "image/png": "[encoded data removed]",
      "text/plain": [
       "<Figure size 432x288 with 1 Axes>"
      ]
     },
     "metadata": {
      "needs_background": "light"
     },
     "output_type": "display_data"
    }
   ],
   "source": [
    "sns.countplot(data = df3, x=df3.Churn, hue = df3.gender)\n",
    "plt.title(\"Count distribution of Churn with Gender\")"
   ]
  },
  {
   "cell_type": "code",
   "execution_count": 19,
   "metadata": {},
   "outputs": [
    {
     "data": {
      "text/plain": [
       "<AxesSubplot:xlabel='Churn', ylabel='count'>"
      ]
     },
     "execution_count": 19,
     "metadata": {},
     "output_type": "execute_result"
    },
    {
     "data": {
      "image/png": "[encoded data removed]",
      "text/plain": [
       "<Figure size 432x288 with 1 Axes>"
      ]
     },
     "metadata": {
      "needs_background": "light"
     },
     "output_type": "display_data"
    }
   ],
   "source": [
    "sns.countplot(data = df3, x = df3.Churn, hue = df3.SeniorCitizen)"
   ]
  },
  {
   "cell_type": "markdown",
   "metadata": {},
   "source": [
    "Repeating the same code for each plot is tedious.  \n",
    "Let's automate the process using a for loop for constructing countplots for all object type variables."
   ]
  },
  {
   "cell_type": "code",
   "execution_count": 20,
   "metadata": {},
   "outputs": [
    {
     "data": {
      "text/plain": [
       "['gender',\n",
       " 'SeniorCitizen',\n",
       " 'Partner',\n",
       " 'Dependents',\n",
       " 'CallService',\n",
       " 'MultipleConnections',\n",
       " 'InternetConnection',\n",
       " 'OnlineSecurity',\n",
       " 'OnlineBackup',\n",
       " 'DeviceProtectionService',\n",
       " 'TechnicalHelp',\n",
       " 'OnlineTV',\n",
       " 'OnlineMovies',\n",
       " 'Agreement',\n",
       " 'BillingMethod',\n",
       " 'PaymentMethod',\n",
       " 'Churn']"
      ]
     },
     "execution_count": 20,
     "metadata": {},
     "output_type": "execute_result"
    }
   ],
   "source": [
    "objectlst = list(df3.select_dtypes([\"object\"]).columns)\n",
    "objectlst"
   ]
  },
  {
   "cell_type": "code",
   "execution_count": 21,
   "metadata": {},
   "outputs": [],
   "source": [
    "objectlst.remove(\"Churn\")\n",
    "objectlst.remove(\"PaymentMethod\")"
   ]
  },
  {
   "cell_type": "markdown",
   "metadata": {},
   "source": [
    "### BarPlot for non-continuous attributes"
   ]
  },
  {
   "cell_type": "code",
   "execution_count": 23,
   "metadata": {
    "scrolled": false
   },
   "outputs": [
    {
     "data": {
      "image/png": "[encoded data removed]",
      "text/plain": [
       "<Figure size 1440x1440 with 15 Axes>"
      ]
     },
     "metadata": {
      "needs_background": "light"
     },
     "output_type": "display_data"
    }
   ],
   "source": [
    "fig, axes = plt.subplots(nrows=5, ncols=3, figsize=(20,20))\n",
    "x=0\n",
    "y=0\n",
    "for col in objectlst:\n",
    "    sns.countplot(data = df3, x = df3[col], hue = df3.Churn, ax=axes[x,y])\n",
    "    \n",
    "    y+=1\n",
    "    if y>2:\n",
    "        x+=1\n",
    "        y=0\n",
    "    if x>5:\n",
    "        break"
   ]
  },
  {
   "cell_type": "code",
   "execution_count": 24,
   "metadata": {},
   "outputs": [
    {
     "data": {
      "text/plain": [
       "<AxesSubplot:xlabel='PaymentMethod', ylabel='count'>"
      ]
     },
     "execution_count": 24,
     "metadata": {},
     "output_type": "execute_result"
    },
    {
     "data": {
      "image/png": "[encoded data removed]",
      "text/plain": [
       "<Figure size 648x360 with 1 Axes>"
      ]
     },
     "metadata": {
      "needs_background": "light"
     },
     "output_type": "display_data"
    }
   ],
   "source": [
    "plt.figure(figsize=(9,5))\n",
    "sns.countplot(data = df3, x = df.PaymentMethod, hue = df.Churn)"
   ]
  },
  {
   "cell_type": "markdown",
   "metadata": {},
   "source": [
    "Lets see the insights we can draw from these graphs\n",
    "1. Gender - No significant difference\n",
    "2. Senior Citizen - No significant difference\n",
    "3. Partner - There are more Customers who do not have a partner that have Churned\n",
    "4. Dependents - No significant difference\n",
    "5. Call Service - No significant difference\n",
    "6. Multiple Connection - Customers without Multiple Connections have Churned more\n",
    "7. Internet Connection - Customers with Fiber Optic connection have Churned tremendously\n",
    "8. Online Security - Large number of Customers with No Online Security have Churned\n",
    "9. Online Backup - Customer with No Online Backup service have Churned more\n",
    "10. Device Protection Service - Customers with No Device Protection have Churned more\n",
    "11. Technical Help - Customers who do not have Technical Help facilty have Churned more\n",
    "12. Online TV - No Online TV have caused some relative churn\n",
    "13. Online Movies - No Online Movies have caused some churn\n",
    "14. Agreement - Month-to-month agreement has caused a large amount of churn\n",
    "15. Billing Method - Electronic Check type of Billing method seems to cause high amount of Churn."
   ]
  },
  {
   "cell_type": "code",
   "execution_count": 25,
   "metadata": {},
   "outputs": [
    {
     "data": {
      "text/plain": [
       "3"
      ]
     },
     "execution_count": 25,
     "metadata": {},
     "output_type": "execute_result"
    }
   ],
   "source": [
    "floatlst = list(df3.select_dtypes([\"float64\"]).columns)\n",
    "len(floatlst)"
   ]
  },
  {
   "cell_type": "markdown",
   "metadata": {},
   "source": [
    "### BarPlot for continuous attributes"
   ]
  },
  {
   "cell_type": "code",
   "execution_count": 26,
   "metadata": {},
   "outputs": [
    {
     "data": {
      "image/png": "[encoded data removed]",
      "text/plain": [
       "<Figure size 1440x360 with 3 Axes>"
      ]
     },
     "metadata": {
      "needs_background": "light"
     },
     "output_type": "display_data"
    }
   ],
   "source": [
    "fig, axes = plt.subplots(nrows=1, ncols=3, figsize=(20,5))\n",
    "k=0\n",
    "for col in floatlst:\n",
    "    sns.barplot(data = df3, x = df3.Churn, y = df3[col], ax=axes[k])\n",
    "    axes[k].set_title(col)\n",
    "    k+=1\n",
    "    "
   ]
  },
  {
   "cell_type": "code",
   "execution_count": 27,
   "metadata": {},
   "outputs": [
    {
     "data": {
      "text/plain": [
       "<AxesSubplot:>"
      ]
     },
     "execution_count": 27,
     "metadata": {},
     "output_type": "execute_result"
    },
    {
     "data": {
      "image/png": "[encoded data removed]",
      "text/plain": [
       "<Figure size 360x360 with 2 Axes>"
      ]
     },
     "metadata": {
      "needs_background": "light"
     },
     "output_type": "display_data"
    }
   ],
   "source": [
    "plt.figure(figsize=(5,5))\n",
    "sns.heatmap(df3.corr(), annot = True)"
   ]
  },
  {
   "cell_type": "markdown",
   "metadata": {},
   "source": [
    "## Machine Learning Modelling"
   ]
  },
  {
   "cell_type": "markdown",
   "metadata": {},
   "source": [
    "Let's split the dataset into input variables and target variable."
   ]
  },
  {
   "cell_type": "code",
   "execution_count": 28,
   "metadata": {},
   "outputs": [],
   "source": [
    "X = df3.drop(\"Churn\", axis=1)\n",
    "y = df3.Churn"
   ]
  },
  {
   "cell_type": "markdown",
   "metadata": {},
   "source": [
    "Next, we need to split the dataset into train and test.  \n",
    "This is done so that there is no data leakage for the machine from the test data."
   ]
  },
  {
   "cell_type": "code",
   "execution_count": 29,
   "metadata": {},
   "outputs": [],
   "source": [
    "from sklearn.model_selection import train_test_split\n",
    "tts = train_test_split"
   ]
  },
  {
   "cell_type": "code",
   "execution_count": 30,
   "metadata": {},
   "outputs": [],
   "source": [
    "X_train, X_test, y_train, y_test = tts(X,y)"
   ]
  },
  {
   "cell_type": "markdown",
   "metadata": {},
   "source": [
    "To confirm that the split happened correctly, we will check the shape of each split."
   ]
  },
  {
   "cell_type": "code",
   "execution_count": 31,
   "metadata": {},
   "outputs": [
    {
     "name": "stdout",
     "output_type": "stream",
     "text": [
      "(6431, 19) (2144, 19) (6431,) (2144,)\n"
     ]
    }
   ],
   "source": [
    "print(X_train.shape, X_test.shape, y_train.shape, y_test.shape)"
   ]
  },
  {
   "cell_type": "markdown",
   "metadata": {},
   "source": [
    "Now, we need to perform standardize the continuous variables.  \n",
    "Hence, we split the dataset again to float and object types."
   ]
  },
  {
   "cell_type": "code",
   "execution_count": 32,
   "metadata": {},
   "outputs": [],
   "source": [
    "from sklearn.preprocessing import StandardScaler\n",
    "sc = StandardScaler()"
   ]
  },
  {
   "cell_type": "code",
   "execution_count": 33,
   "metadata": {},
   "outputs": [
    {
     "name": "stdout",
     "output_type": "stream",
     "text": [
      "(6431, 3) (2144, 3)\n"
     ]
    }
   ],
   "source": [
    "X_train_std = sc.fit_transform(X_train[floatlst])\n",
    "X_test_std = sc.transform(X_test[floatlst])\n",
    "print(X_train_std.shape, X_test_std.shape)"
   ]
  },
  {
   "cell_type": "code",
   "execution_count": 34,
   "metadata": {},
   "outputs": [
    {
     "name": "stdout",
     "output_type": "stream",
     "text": [
      "(6431, 3) (2144, 3) (8575, 20)\n"
     ]
    }
   ],
   "source": [
    "X_train_df = pd.DataFrame(X_train_std, columns = floatlst)\n",
    "X_test_df = pd.DataFrame(X_test_std, columns = floatlst)\n",
    "print(X_train_df.shape, X_test_df.shape, df3.shape)"
   ]
  },
  {
   "cell_type": "markdown",
   "metadata": {},
   "source": [
    "Next, we perform one Hot Encoding for Categorical Variables"
   ]
  },
  {
   "cell_type": "code",
   "execution_count": 35,
   "metadata": {},
   "outputs": [
    {
     "name": "stdout",
     "output_type": "stream",
     "text": [
      "(6431, 16) (2144, 16)\n"
     ]
    }
   ],
   "source": [
    "X_train_obj = X_train.drop(columns = floatlst)\n",
    "X_test_obj = X_test.drop(columns = floatlst)\n",
    "print(X_train_obj.shape, X_test_obj.shape)"
   ]
  },
  {
   "cell_type": "code",
   "execution_count": 36,
   "metadata": {},
   "outputs": [
    {
     "name": "stdout",
     "output_type": "stream",
     "text": [
      "(6431, 28) (2144, 28)\n"
     ]
    }
   ],
   "source": [
    "X_train_dm = pd.get_dummies(X_train_obj, drop_first = True).reset_index()\n",
    "X_test_dm = pd.get_dummies(X_test_obj, drop_first = True).reset_index()\n",
    "print(X_train_dm.shape, X_test_dm.shape)"
   ]
  },
  {
   "cell_type": "code",
   "execution_count": 37,
   "metadata": {},
   "outputs": [
    {
     "name": "stdout",
     "output_type": "stream",
     "text": [
      "(6431, 31) (2144, 31)\n"
     ]
    }
   ],
   "source": [
    "X_train = pd.concat([X_train_dm, X_train_df], axis = 1)\n",
    "X_test = pd.concat([X_test_dm, X_test_df],axis = 1)\n",
    "print(X_train.shape, X_test.shape)"
   ]
  },
  {
   "cell_type": "markdown",
   "metadata": {},
   "source": [
    "### Logistic Regression"
   ]
  },
  {
   "cell_type": "code",
   "execution_count": 38,
   "metadata": {},
   "outputs": [],
   "source": [
    "from sklearn.linear_model import LogisticRegression\n",
    "log_model = LogisticRegression(max_iter = 5000)\n",
    "log_model.fit(X_train,y_train)\n",
    "log_preds = log_model.predict(X_test)"
   ]
  },
  {
   "cell_type": "markdown",
   "metadata": {},
   "source": [
    "### Checking the Accuracy"
   ]
  },
  {
   "cell_type": "code",
   "execution_count": 47,
   "metadata": {},
   "outputs": [],
   "source": [
    "from sklearn.metrics import accuracy_score, confusion_matrix, classification_report, plot_confusion_matrix"
   ]
  },
  {
   "cell_type": "code",
   "execution_count": 40,
   "metadata": {},
   "outputs": [
    {
     "data": {
      "text/plain": [
       "0.9990671641791045"
      ]
     },
     "execution_count": 40,
     "metadata": {},
     "output_type": "execute_result"
    }
   ],
   "source": [
    "accuracy_score(log_preds, y_test)"
   ]
  },
  {
   "cell_type": "code",
   "execution_count": 41,
   "metadata": {},
   "outputs": [
    {
     "data": {
      "text/plain": [
       "array([[ 892,    0],\n",
       "       [   2, 1250]], dtype=int64)"
      ]
     },
     "execution_count": 41,
     "metadata": {},
     "output_type": "execute_result"
    }
   ],
   "source": [
    "confusion_matrix(log_preds, y_test)"
   ]
  },
  {
   "cell_type": "code",
   "execution_count": 53,
   "metadata": {},
   "outputs": [
    {
     "data": {
      "text/plain": [
       "<sklearn.metrics._plot.confusion_matrix.ConfusionMatrixDisplay at 0x2606dd85eb0>"
      ]
     },
     "execution_count": 53,
     "metadata": {},
     "output_type": "execute_result"
    },
    {
     "data": {
      "image/png": "[encoded data removed]",
      "text/plain": [
       "<Figure size 432x288 with 2 Axes>"
      ]
     },
     "metadata": {
      "needs_background": "light"
     },
     "output_type": "display_data"
    }
   ],
   "source": [
    "plot_confusion_matrix(log_model, X_test, y_test, cmap='Blues')"
   ]
  },
  {
   "cell_type": "code",
   "execution_count": 42,
   "metadata": {},
   "outputs": [
    {
     "name": "stdout",
     "output_type": "stream",
     "text": [
      "              precision    recall  f1-score   support\n",
      "\n",
      "          No       1.00      1.00      1.00       892\n",
      "         Yes       1.00      1.00      1.00      1252\n",
      "\n",
      "    accuracy                           1.00      2144\n",
      "   macro avg       1.00      1.00      1.00      2144\n",
      "weighted avg       1.00      1.00      1.00      2144\n",
      "\n"
     ]
    }
   ],
   "source": [
    "print(classification_report(log_preds, y_test))"
   ]
  },
  {
   "cell_type": "markdown",
   "metadata": {},
   "source": [
    "  "
   ]
  },
  {
   "cell_type": "markdown",
   "metadata": {},
   "source": [
    "Let's write a simple function to fit, predict and return accuracy metrics. "
   ]
  },
  {
   "cell_type": "code",
   "execution_count": 54,
   "metadata": {},
   "outputs": [],
   "source": [
    "def algo(model):\n",
    "    model.fit(X_train, y_train)\n",
    "    model_preds = model.predict(X_test)\n",
    "    print(\"Accuracy Score\", accuracy_score(model_preds, y_test), \"\\n\")\n",
    "    print(\"Confusion Matrix\")\n",
    "    print(confusion_matrix(model_preds, y_test), \"\\n\")\n",
    "    plot_confusion_matrix(model, X_test, y_test, cmap='Blues')\n",
    "    print(\"Classification Report\")\n",
    "    print(classification_report(model_preds, y_test))"
   ]
  },
  {
   "cell_type": "markdown",
   "metadata": {},
   "source": [
    "### Decision Tree"
   ]
  },
  {
   "cell_type": "code",
   "execution_count": 55,
   "metadata": {},
   "outputs": [
    {
     "name": "stdout",
     "output_type": "stream",
     "text": [
      "Accuracy Score 1.0 \n",
      "\n",
      "Confusion Matrix\n",
      "[[ 894    0]\n",
      " [   0 1250]] \n",
      "\n",
      "Classification Report\n",
      "              precision    recall  f1-score   support\n",
      "\n",
      "          No       1.00      1.00      1.00       894\n",
      "         Yes       1.00      1.00      1.00      1250\n",
      "\n",
      "    accuracy                           1.00      2144\n",
      "   macro avg       1.00      1.00      1.00      2144\n",
      "weighted avg       1.00      1.00      1.00      2144\n",
      "\n"
     ]
    },
    {
     "data": {
      "image/png": "[encoded data removed]",
      "text/plain": [
       "<Figure size 432x288 with 2 Axes>"
      ]
     },
     "metadata": {
      "needs_background": "light"
     },
     "output_type": "display_data"
    }
   ],
   "source": [
    "from sklearn.tree import DecisionTreeClassifier\n",
    "algo(DecisionTreeClassifier(criterion = \"entropy\"))"
   ]
  },
  {
   "cell_type": "markdown",
   "metadata": {},
   "source": [
    "See how efficiently we collated few lines of repeated code to simply one line."
   ]
  },
  {
   "cell_type": "markdown",
   "metadata": {},
   "source": [
    "### Random Forest Classifier"
   ]
  },
  {
   "cell_type": "code",
   "execution_count": 56,
   "metadata": {},
   "outputs": [
    {
     "name": "stdout",
     "output_type": "stream",
     "text": [
      "Accuracy Score 1.0 \n",
      "\n",
      "Confusion Matrix\n",
      "[[ 894    0]\n",
      " [   0 1250]] \n",
      "\n",
      "Classification Report\n",
      "              precision    recall  f1-score   support\n",
      "\n",
      "          No       1.00      1.00      1.00       894\n",
      "         Yes       1.00      1.00      1.00      1250\n",
      "\n",
      "    accuracy                           1.00      2144\n",
      "   macro avg       1.00      1.00      1.00      2144\n",
      "weighted avg       1.00      1.00      1.00      2144\n",
      "\n"
     ]
    },
    {
     "data": {
      "image/png": "[encoded data removed]",
      "text/plain": [
       "<Figure size 432x288 with 2 Axes>"
      ]
     },
     "metadata": {
      "needs_background": "light"
     },
     "output_type": "display_data"
    }
   ],
   "source": [
    "from sklearn.ensemble import RandomForestClassifier\n",
    "algo(RandomForestClassifier())"
   ]
  },
  {
   "cell_type": "markdown",
   "metadata": {},
   "source": [
    "### K Nearest Neighbor"
   ]
  },
  {
   "cell_type": "code",
   "execution_count": 57,
   "metadata": {},
   "outputs": [
    {
     "name": "stdout",
     "output_type": "stream",
     "text": [
      "Accuracy Score 1.0 \n",
      "\n",
      "Confusion Matrix\n",
      "[[ 894    0]\n",
      " [   0 1250]] \n",
      "\n",
      "Classification Report\n",
      "              precision    recall  f1-score   support\n",
      "\n",
      "          No       1.00      1.00      1.00       894\n",
      "         Yes       1.00      1.00      1.00      1250\n",
      "\n",
      "    accuracy                           1.00      2144\n",
      "   macro avg       1.00      1.00      1.00      2144\n",
      "weighted avg       1.00      1.00      1.00      2144\n",
      "\n"
     ]
    },
    {
     "data": {
      "image/png": "[encoded data removed]",
      "text/plain": [
       "<Figure size 432x288 with 2 Axes>"
      ]
     },
     "metadata": {
      "needs_background": "light"
     },
     "output_type": "display_data"
    }
   ],
   "source": [
    "from sklearn.neighbors import KNeighborsClassifier\n",
    "algo(KNeighborsClassifier())"
   ]
  },
  {
   "cell_type": "markdown",
   "metadata": {},
   "source": [
    "With this, we have completed the end-to-end execution of Customer Churn Prediction.  \n",
    "Hope you were able to get some takeaways from this exercise."
   ]
  }
 ],
 "metadata": {
  "kernelspec": {
   "display_name": "Python 3",
   "language": "python",
   "name": "python3"
  },
  "language_info": {
   "codemirror_mode": {
    "name": "ipython",
    "version": 3
   },
   "file_extension": ".py",
   "mimetype": "text/x-python",
   "name": "python",
   "nbconvert_exporter": "python",
   "pygments_lexer": "ipython3",
   "version": "3.8.5"
  }
 },
 "nbformat": 4,
 "nbformat_minor": 4
}
